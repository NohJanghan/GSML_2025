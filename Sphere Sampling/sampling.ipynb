{
 "cells": [
  {
   "cell_type": "markdown",
   "metadata": {},
   "source": [
    "# Sphere Sampling"
   ]
  },
  {
   "cell_type": "code",
   "execution_count": null,
   "metadata": {},
   "outputs": [],
   "source": [
    "%matplotlib inline\n",
    "import numpy as np\n",
    "import math\n",
    "import matplotlib.pyplot as plt\n"
   ]
  },
  {
   "cell_type": "markdown",
   "metadata": {},
   "source": [
    "## Sampler"
   ]
  },
  {
   "cell_type": "code",
   "execution_count": null,
   "metadata": {},
   "outputs": [],
   "source": [
    "def get_theta(x):\n",
    "    return math.acos(1 - 2 * x) # 0 <= x <= 1, 0 <= theta <= pi"
   ]
  },
  {
   "cell_type": "code",
   "execution_count": null,
   "metadata": {},
   "outputs": [],
   "source": [
    "def sampler(r = 1):\n",
    "    theta = get_theta(np.random.rand())\n",
    "    phi = np.random.rand() * 2 * np.pi\n",
    "\n",
    "    x = r * math.sin(theta) * math.cos(phi)\n",
    "    y = r * math.sin(theta) * math.sin(phi)\n",
    "    z = r * math.cos(theta)\n",
    "    return [x, y, z]"
   ]
  },
  {
   "cell_type": "code",
   "execution_count": null,
   "metadata": {},
   "outputs": [],
   "source": [
    "x, y, z = sampler()\n",
    "x ** 2 + y ** 2 + z ** 2"
   ]
  },
  {
   "cell_type": "markdown",
   "metadata": {},
   "source": [
    "## Visualization"
   ]
  },
  {
   "cell_type": "code",
   "execution_count": null,
   "metadata": {},
   "outputs": [],
   "source": [
    "# Sample 초기화\n",
    "n = 10**4\n",
    "samples = np.array([sampler() for i in range(n)])\n",
    "\n",
    "# 3D scatter plot 생성\n",
    "fig = plt.figure(figsize=(8, 6))\n",
    "ax = fig.add_subplot(111, projection='3d')\n",
    "\n",
    "# samples의 각 좌표를 산점도로 표시합니다.\n",
    "ax.scatter(samples[:, 0], samples[:, 1], samples[:, 2], marker='o', alpha=0.1)\n",
    "\n",
    "ax.set_xlabel('X')\n",
    "ax.set_ylabel('Y')\n",
    "ax.set_zlabel('Z')\n",
    "ax.set_title('3D Scatter Plot of Samples')\n",
    "\n",
    "plt.show()\n",
    "\n"
   ]
  },
  {
   "cell_type": "markdown",
   "metadata": {},
   "source": [
    "## Verification"
   ]
  },
  {
   "cell_type": "code",
   "execution_count": null,
   "metadata": {},
   "outputs": [],
   "source": [
    "## Verify the distribution of sample\n",
    "\n",
    "# Calculate theta values from samples (elevation angle)\n",
    "# z = sin(theta), so theta = asin(z)\n",
    "sampled_thetas = np.arccos(samples[:, 2])\n",
    "\n",
    "# Define the theoretical range for theta (elevation angle)\n",
    "theta_range = np.linspace(0, np.pi, 1000)\n",
    "\n",
    "# Calculate the theoretical Cumulative Distribution Function (CDF)\n",
    "# CDF F(theta) = (sin(theta) + 1) / 2 for theta in [-pi/2, pi/2]\n",
    "theoretical_cdf = (1 - np.cos(theta_range)) / 2\n",
    "\n",
    "# Plotting\n",
    "plt.figure(figsize=(10, 6))\n",
    "\n",
    "# Plot the theoretical CDF\n",
    "plt.plot(theta_range, theoretical_cdf, 'b-', linewidth=2, label='Theoretical CDF')\n",
    "\n",
    "# Plot the cumulative histogram of the sampled thetas\n",
    "plt.hist(sampled_thetas, bins=100, density=True, cumulative=True, histtype='step', color='r', linewidth=1.5, label='Sampled Data (Cumulative Hist)')\n",
    "\n",
    "plt.grid(True, linestyle='--', alpha=0.7)\n",
    "plt.xlabel(r'$\\theta$ (Elevation Angle)', fontsize=12)\n",
    "plt.ylabel('Cumulative Probability', fontsize=12)\n",
    "plt.title(r'Comparison of Theoretical CDF and Sampled $\\theta$ Distribution', fontsize=14)\n",
    "plt.legend()\n",
    "\n",
    "# Adjust x-axis ticks and limits for the range [0, π]\n",
    "new_ticks = np.array([0, np.pi/4, np.pi/2, 3*np.pi/4, np.pi])\n",
    "plt.xticks(new_ticks, [r'$0$', r'$\\pi/4$', r'$\\pi/2$', r'$3\\pi/4$', r'$\\pi$'])\n",
    "plt.xlim(0, np.pi)\n",
    "plt.show()"
   ]
  },
  {
   "cell_type": "code",
   "execution_count": null,
   "metadata": {},
   "outputs": [],
   "source": [
    "# Calculate the theoretical Probability Density Function (PDF)\n",
    "# PDF f(theta) = dF/d(theta) = sin(theta) / 2 for theta in [0, pi]\n",
    "theoretical_pdf = np.sin(theta_range) / 2\n",
    "\n",
    "# Plotting PDF\n",
    "plt.figure(figsize=(10, 6))\n",
    "\n",
    "# Plot the theoretical PDF\n",
    "plt.plot(theta_range, theoretical_pdf, 'b-', linewidth=2, label='Theoretical PDF')\n",
    "\n",
    "# Plot the histogram (non-cumulative) of the sampled thetas to approximate the PDF\n",
    "plt.hist(sampled_thetas, bins=100, density=True, histtype='step', color='r', linewidth=1.5, label='Sampled Data (Histogram)')\n",
    "\n",
    "plt.grid(True, linestyle='--', alpha=0.7)\n",
    "plt.xlabel(r'$\\theta$ (Elevation Angle)', fontsize=12)\n",
    "plt.ylabel('Probability Density', fontsize=12)\n",
    "plt.title(r'Comparison of Theoretical PDF and Sampled $\\theta$ Distribution', fontsize=14)\n",
    "plt.legend()\n",
    "\n",
    "# Adjust x-axis ticks and limits for the range [0, π]\n",
    "new_ticks = np.array([0, np.pi/4, np.pi/2, 3*np.pi/4, np.pi])\n",
    "plt.xticks(new_ticks, [r'$0$', r'$\\pi/4$', r'$\\pi/2$', r'$3\\pi/4$', r'$\\pi$'])\n",
    "plt.xlim(0, np.pi)\n",
    "plt.show()"
   ]
  },
  {
   "cell_type": "code",
   "execution_count": null,
   "metadata": {},
   "outputs": [],
   "source": [
    "# Verify the distribution of z values\n",
    "# z = cos(theta). For uniform sphere sampling, the PDF of z should be uniform in [-1, 1].\n",
    "sampled_z = samples[:, 2]\n",
    "\n",
    "# Define the theoretical range for z\n",
    "z_range = np.linspace(-1, 1, 100)\n",
    "# Theoretical PDF for z is uniform U(-1, 1), so PDF = 1 / (1 - (-1)) = 0.5\n",
    "theoretical_pdf_z = np.full_like(z_range, 0.5)\n",
    "\n",
    "# Plotting PDF for z\n",
    "plt.figure(figsize=(10, 6))\n",
    "\n",
    "# Plot the theoretical PDF for z\n",
    "plt.plot(z_range, theoretical_pdf_z, 'b-', linewidth=2, label='Theoretical PDF (Uniform)')\n",
    "\n",
    "# Plot the histogram (non-cumulative) of the sampled z values to approximate the PDF\n",
    "plt.hist(sampled_z, bins=100, density=True, histtype='step', color='r', linewidth=1.5, label='Sampled Data (Histogram)')\n",
    "\n",
    "plt.grid(True, linestyle='--', alpha=0.7)\n",
    "plt.xlabel('z value', fontsize=12)\n",
    "plt.ylabel('Probability Density', fontsize=12)\n",
    "plt.title('Comparison of Theoretical PDF and Sampled z Distribution', fontsize=14)\n",
    "plt.legend()\n",
    "plt.xlim(-1, 1)\n",
    "plt.ylim(0, 1.0) # Adjust ylim for better visualization if needed\n",
    "plt.show()"
   ]
  }
 ],
 "metadata": {
  "kernelspec": {
   "display_name": "lab",
   "language": "python",
   "name": "python3"
  },
  "language_info": {
   "codemirror_mode": {
    "name": "ipython",
    "version": 3
   },
   "file_extension": ".py",
   "mimetype": "text/x-python",
   "name": "python",
   "nbconvert_exporter": "python",
   "pygments_lexer": "ipython3",
   "version": "3.13.2"
  }
 },
 "nbformat": 4,
 "nbformat_minor": 2
}
